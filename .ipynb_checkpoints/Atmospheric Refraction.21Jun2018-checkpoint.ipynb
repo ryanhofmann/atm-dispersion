{
 "cells": [
  {
   "cell_type": "markdown",
   "metadata": {},
   "source": [
    "## atmospheric_refraction.pro\n",
    "\n",
    "### Purpose: \n",
    "Calculate the refraction of the Sun at different wavelengths. \n",
    "\n",
    "### Explanation:\n",
    "This program calculates the refractivity of the air for a given set of atmospheric conditions and the position of the Sun for an array of input times. It will also compute the offsets in heliocentric coordinates, which vary in time due to changes in both the magnitude of the refraction and the orientation of the parallactic angle relative to the solar rotation axis. \n",
    "\n",
    "### Inputs:\n",
    " * wavelength: wavelengths at which to calculate refractivity, in nanometers. The default is \\[400, 500, 600, 700, 800\\]. \n",
    " * input_times: the times for which to calculate the position of the Sun and the related atmospheric refraction, in Julian days. The default is the current time. \n",
    " * latitude: the latitude of the observation location, in decimal degrees, setting northern latitudes as postitive. The default is 20.71, the latitude of Haleakalā. \n",
    " * longitude: the longitude of the observation location, in decimal degrees, setting eastern longitudes as positive. The default is -156.25, the longitude of Haleakalā.\n",
    " * altitude: the altitude of the observation location in meters. The default is 3055.\n",
    " * air_temp: the temperature of the air, in °C. The default is 20.\n",
    " * air_pressure: the local air pressure, in Pa. The default is 100000.\n",
    " * humidity: the relative percentage humidity. The default is 75%.\n",
    " * co2_conc: the concentration of CO<sub>2</sub> in ppm. The default is 380.\n",
    " * verbose: indicates the level of output information. 0 is no output, 1 is standard output, 2 is extended output. \n",
    " \n",
    "### Results:\n",
    "The program returns a structure containing the refraction magnitude for each input time and wavelength, and the parallactic angle for each input time. The structure also contains descriptors of the units used for each array.\n",
    "\n",
    "\\[copy and paste an example output here\\]"
   ]
  },
  {
   "cell_type": "code",
   "execution_count": 1,
   "metadata": {},
   "outputs": [],
   "source": [
    "import numpy as np\n",
    "from datetime import datetime\n",
    "import astropy.units as u\n",
    "from astropy import coordinates\n",
    "from astropy.coordinates import EarthLocation, AltAz\n",
    "from astropy.time import Time\n",
    "from refractivity import refractivity\n",
    "import sunpy as sp\n",
    "from sunpy import coordinates as coord\n",
    "from scipy import interpolate\n",
    "import matplotlib.pyplot as plt"
   ]
  },
  {
   "cell_type": "code",
   "execution_count": 2,
   "metadata": {},
   "outputs": [
    {
     "data": {
      "text/plain": [
       "({'refraction_mag (arcsec)': array([[0.26005423, 0.26639335, 0.26983557, 0.27203823, 0.27354893]]),\n",
       "  'parallactic_angle (degrees)': array([-69.23265196])},\n",
       " <Time object: scale='utc' format='jd' value=[2458283.17128995]>)"
      ]
     },
     "execution_count": 2,
     "metadata": {},
     "output_type": "execute_result"
    }
   ],
   "source": [
    "def atmospheric_refraction(wavelength=np.array([400, 500, 600, 700, 800]), input_times=np.array([1]), latitude=20.71, longitude=-156.25, altitude=3055., air_temp=20., air_pressure=100000., humidity=75., co2_conc=380., verbose=0):\n",
    "    arcsec_conversion = np.degrees(3600.)\n",
    "    num_waves=wavelength.size\n",
    "    wavelength.astype(float)\n",
    "    \n",
    "    #setting default time to now in Julian dates\n",
    "    if np.alltrue(input_times == np.array([1])):\n",
    "        input_times = Time(np.array([datetime.utcnow()]), scale='utc')\n",
    "        input_times.format = 'jd'\n",
    "    else:\n",
    "        input_times = Time(input_times, format='jd', scale='utc')    \n",
    "    num_times = input_times.size\n",
    "    \n",
    "    refrac = refractivity(wavelength, air_temp, air_pressure, humidity, co2_conc, verbose=verbose)\n",
    "    \n",
    "    #get the Sun's RA and Dec, then print them\n",
    "    sunpos = coordinates.get_sun(input_times)\n",
    "    \n",
    "    #Local information for Haleakalā\n",
    "    haleakalā = EarthLocation(lat=latitude*u.deg, lon=longitude*u.deg, height=altitude*u.m)\n",
    "    local_sidereal = input_times.sidereal_time('apparent',haleakalā.lon)\n",
    "    \n",
    "    #Get hour angle, altitude and azimuth\n",
    "    #The rest of the program only uses the hour angle and altitude\n",
    "    ha_all = ((local_sidereal - sunpos.ra).deg + 360)%360 * u.deg\n",
    "    ha_all = ha_all.value\n",
    "    frame_obstime = AltAz(obstime=input_times, location=haleakalā)\n",
    "    sunpos_altaz  = sunpos.transform_to(frame_obstime)\n",
    "    alt_all = sunpos_altaz.alt.deg\n",
    "    \n",
    "    #continue with calculations\n",
    "    beta = 0.001254*(273.15 + air_temp)/273.15\n",
    "    coeff_a = refrac*(1 - beta)\n",
    "    coeff_b = refrac*(beta - refrac/2.)\n",
    "    \n",
    "    #calculate the magnitude of the refraction for each time and wavelength\n",
    "    refraction_calc = np.ones((num_times, num_waves))\n",
    "    for wv in range (num_waves):\n",
    "        refraction_wv = (coeff_a[wv]*np.tan(np.radians(90 - alt_all))) - (coeff_b[wv]*(np.tan(np.radians(90 - alt_all)))**3)\n",
    "        refraction_wv = refraction_wv*arcsec_conversion\n",
    "        refraction_calc[:, wv] = refraction_wv\n",
    "    #print(num_times)\n",
    "    \n",
    "    #find the parallactic angle\n",
    "    parallactic_angle_sin = np.sin(np.deg2rad(ha_all))/np.sin(np.deg2rad(90 - alt_all))*np.sin(np.deg2rad(90 - latitude))\n",
    "    parallactic_angle = np.rad2deg(np.arcsin(parallactic_angle_sin))\n",
    "        \n",
    "    if verbose == 1:\n",
    "        print(\"\\nInput Time(s) in Julian dates: \", input_times)\n",
    "        print(\"\\nSun's RA: \", sunpos.ra.degree)\n",
    "        print(\"Sun's Dec: \", sunpos.dec.degree)\n",
    "        print(\"Local Sidereal Time: \", local_sidereal)\n",
    "        print('\\nHour Angle: ', ha_all)\n",
    "        print(\"Altitude: \", alt_all)\n",
    "        print(\"Azimuth: \", sunpos_altaz.az.deg)\n",
    "        print()\n",
    "        for time, refractions in zip(input_times, refraction_calc):\n",
    "            print(\"Refraction for Julian Date \", time, \": \", refractions)\n",
    "        print()\n",
    "        for time, angles in zip(input_times, parallactic_angle):\n",
    "            print (\"Parallactic Angle for Julian Date \", time, \": \", angles)\n",
    "    \n",
    "    atmospheric_refraction = {'refraction_mag (arcsec)':refraction_calc[:, :], 'parallactic_angle (degrees)':parallactic_angle[:]}    \n",
    "    return(atmospheric_refraction, input_times)\n",
    "    \n",
    "atmospheric_refraction()\n",
    "#atmospheric_refraction(input_times = np.array([2458278.2, 2454629.564])) "
   ]
  },
  {
   "cell_type": "code",
   "execution_count": 3,
   "metadata": {},
   "outputs": [
    {
     "name": "stdout",
     "output_type": "stream",
     "text": [
      "n(axs):  [28274.54481324 27895.98259643 27697.04883685 27579.2438782\n",
      " 27503.61875015] \n",
      "n(ws):  [318.31024401 312.25978396 309.06005724 307.135325   305.88212918] \n",
      "rho(a/axs):  0.00333495454397482 \n",
      "rho(w/ws):  -0.25786447651378713 \n",
      "n(prop):  [12.21341726 12.51112819 12.672789   12.77623489 12.84718321]\n",
      "n(air):  [94.2943217  93.03183392 92.36839887 91.97552469 91.72331833] \n",
      "n(water):  [-82.08090444 -80.52070573 -79.69560987 -79.1992898  -78.87613512]\n"
     ]
    },
    {
     "data": {
      "text/plain": [
       "{'East-West': array([[-0.85570565, -0.85570565, -0.85570565, -0.85570565, -0.85570565]]),\n",
       " 'North-South': array([[-0.51746289, -0.51746289, -0.51746289, -0.51746289, -0.51746289]])}"
      ]
     },
     "execution_count": 3,
     "metadata": {},
     "output_type": "execute_result"
    }
   ],
   "source": [
    "def offsets(wavelength=np.array([400, 500, 600, 700, 800]), input_times=np.array([1]), latitude=20.71, longitude=-156.25, altitude=3055., air_temp=20., air_pressure=100000., humidity=75., co2_conc=380., verbose=0):\n",
    "    #computes the offsets in heliocentric coordinates due to atmospheric refraction\n",
    "    \n",
    "    refraction_atm = atmospheric_refraction(wavelength, input_times, latitude, longitude, altitude, air_temp, air_pressure, humidity, co2_conc, verbose)\n",
    "    num_waves = wavelength.size\n",
    "    \n",
    "     #setting default time to now in Julian dates\n",
    "    if np.alltrue(input_times == np.array([1])):\n",
    "        input_times = Time(np.array([datetime.utcnow()]), scale='utc')\n",
    "        input_times.format = 'jd'\n",
    "    else:\n",
    "        input_times = Time(input_times, format='jd', scale='utc')    \n",
    "    num_times = input_times.size\n",
    "    \n",
    "    \n",
    "    #get position angle:\n",
    "    PA = coord.ephemeris.get_sun_P(refraction_atm[1]).degree\n",
    "    \n",
    "    parallactic_to_solar = refraction_atm[0]['parallactic_angle (degrees)'] - PA\n",
    "    \n",
    "    #find the offsets due to atmospheric refraction:\n",
    "    sfts_heliocent_ew = np.ones((num_times, num_waves))\n",
    "    sfts_heliocent_ns = np.ones((num_times, num_waves))\n",
    "    \n",
    "    for wv in range (num_waves):\n",
    "        sfts_heliocent_ew[:, wv] = np.sin(np.radians(180 - parallactic_to_solar))\n",
    "        sfts_heliocent_ns[:, wv] = np.cos(np.radians(180 - parallactic_to_solar))\n",
    "    \n",
    "    if verbose == 1:\n",
    "        print('\\nPosition Angles in degrees: ', PA, '\\n') \n",
    "        for time, offsets in zip(input_times, sfts_heliocent_ew):\n",
    "            print(\"East-West Offsets for Julian Date \", time, \": \", offsets)\n",
    "        for time, offsets in zip(input_times, sfts_heliocent_ns):\n",
    "            print(\"North-South Offsets for Julian Date \", time, \": \", offsets)\n",
    "    \n",
    "    offsets = {'East-West':sfts_heliocent_ew, 'North-South':sfts_heliocent_ns}\n",
    "    return(offsets)\n",
    "\n",
    "offsets(verbose=2)\n",
    "#offsets(input_times=np.array([2458278.2, 2454629.564]))"
   ]
  },
  {
   "cell_type": "code",
   "execution_count": 5,
   "metadata": {
    "scrolled": true
   },
   "outputs": [
    {
     "data": {
      "image/png": "[encoded data removed]",
      "text/plain": [
       "<Figure size 432x288 with 1 Axes>"
      ]
     },
     "metadata": {},
     "output_type": "display_data"
    }
   ],
   "source": [
    "def img_scl_change(wavelength=np.array([400, 500, 600, 700, 800]), input_times=2458281.2837603 + np.arange(60)/1440, latitude=20.71, longitude=-156.25, altitude=3055., air_temp=20., air_pressure=100000., humidity=75., co2_conc=380., verbose=0):\n",
    "    #print(input_times)\n",
    "    num_waves = wavelength.size\n",
    "    refraction_atm = atmospheric_refraction(wavelength, input_times, latitude, longitude, altitude, air_temp, air_pressure, humidity, co2_conc, verbose)\n",
    "    \n",
    "    #setting default time to now in Julian dates\n",
    "    if np.alltrue(input_times == np.array([1])):\n",
    "        input_times = Time(np.array([datetime.utcnow()]), scale='utc')\n",
    "        input_times.format = 'jd'\n",
    "    else:\n",
    "        input_times = Time(input_times, format='jd', scale='utc')    \n",
    "    \n",
    "    #get solar elevation\n",
    "    sunpos = coordinates.get_sun(input_times)\n",
    "    haleakalā = EarthLocation(lat=latitude*u.deg, lon=longitude*u.deg, height=altitude*u.m)\n",
    "    frame_obstime = AltAz(obstime=input_times, location=haleakalā)\n",
    "    sunpos_altaz  = sunpos.transform_to(frame_obstime)\n",
    "    elevation_sun = sunpos_altaz.alt.deg\n",
    "    \n",
    "    image_fov = 60. #in arcseconds\n",
    "    image_fov_deg = image_fov/3600.\n",
    "    \n",
    "    #range of degrees present on selected day:\n",
    "    if np.amin(elevation_sun) > 5 and np.amax(elevation_sun) < 90:\n",
    "        alt_range = np.array([np.amin(elevation_sun), np.amax(elevation_sun)])\n",
    "    else:\n",
    "        alt_range = np.array([5, 90])\n",
    "    #there's probably a more elegant/Python-y way of doing that, but whatever\n",
    "    #number of divisions per degree on interpolated altitude scale\n",
    "    alt_scale = 60. \n",
    "    #number of steps for altitude scale\n",
    "    alt_stepn = int(round(((alt_range[1]-alt_range[0]))*alt_scale))\n",
    "    alt_scl_new = np.arange(alt_stepn)/alt_scale + alt_range[0]\n",
    "    alt_scl_avg = (alt_scl_new[0:-2] + alt_scl_new[1:-1])/2.\n",
    "    alt_scl_deg = alt_scl_new[1:-1] - alt_scl_new[0:-2]\n",
    "    \n",
    "    image_scale_factor = np.ones((elevation_sun.size, num_waves))\n",
    "    sun_is_up = np.where(elevation_sun >= 1)\n",
    "    \n",
    "    for wv in range(num_waves):\n",
    "        #calculate  atmospheric refraction on a grid evenly spaced in elevation\n",
    "        y1 = interpolate.splrep(elevation_sun[sun_is_up], refraction_atm[0]['refraction_mag (arcsec)'][sun_is_up, wv][0], s=0)\n",
    "        refraction_mag = interpolate.splev(alt_scl_new, y1, der=0)\n",
    "        #and plot \n",
    "        plt.plot(alt_scl_new, refraction_mag)\n",
    "        plt.xlabel(\"Altitude (deg)\")\n",
    "        plt.ylabel(\"Refraction (arcsec)\")\n",
    "        #calculate the difference in refraction between adjacent elevation steps\n",
    "        refraction_diff = np.median(refraction_mag[0:-2]-refraction_mag[1:-1])\n",
    "        #normalize the refraction differences to the step size of the degree scale\n",
    "        refraction_diff_perdeg = refraction_diff/alt_scl_deg\n",
    "        #multiply the refraction difference (per degree) by the size of the field of view\n",
    "        refraction_diff_fov = refraction_diff_perdeg*image_fov_deg\n",
    "        image_scale_cor = 1 - refraction_diff_fov/image_fov\n",
    "        image_scale_cor_time = interpolate.interp1d(alt_scl_avg, image_scale_cor, fill_value = 'extrapolate')\n",
    "        #plt.plot(elevation_sun, image_scale_cor_time(elevation_sun))\n",
    "        #plt.ylabel(\"Image Scale Difference Ratio\")\n",
    "        #plt.xlabel(\"Altitude (deg)\")\n",
    "\n",
    "img_scl_change()"
   ]
  }
 ],
 "metadata": {
  "kernelspec": {
   "display_name": "Python 3",
   "language": "python",
   "name": "python3"
  },
  "language_info": {
   "codemirror_mode": {
    "name": "ipython",
    "version": 3
   },
   "file_extension": ".py",
   "mimetype": "text/x-python",
   "name": "python",
   "nbconvert_exporter": "python",
   "pygments_lexer": "ipython3",
   "version": "3.8.5"
  }
 },
 "nbformat": 4,
 "nbformat_minor": 2
}
