{
 "cells": [
  {
   "cell_type": "code",
   "execution_count": 3,
   "metadata": {
    "scrolled": false
   },
   "outputs": [],
   "source": [
    "import numpy as np\n",
    "import matplotlib.pyplot as plt\n",
    "from astropy.visualization import astropy_mpl_style\n",
    "\n",
    "import astropy.units as u\n",
    "from astropy.time import Time\n",
    "from astropy.coordinates import angles, SkyCoord, EarthLocation, AltAz, get_sun"
   ]
  },
  {
   "cell_type": "code",
   "execution_count": 5,
   "metadata": {},
   "outputs": [
    {
     "name": "stdout",
     "output_type": "stream",
     "text": [
      "Observing Time = 2458271.25001157\n",
      "Observing Time = 2018-06-01 18:00:01.000\n",
      "\n",
      "Sun's RA = 69.362 deg\n",
      "Sun's Dec = 22.082 deg\n"
     ]
    }
   ],
   "source": [
    "time = Time('2018-06-01 18:00:01', scale='utc')\n",
    "print(\"Observing Time = {0:9.15}\".format(time.jd))\n",
    "print(\"Observing Time = {0}\".format(time))\n",
    "print()\n",
    "\n",
    "sunpos = get_sun(time)\n",
    "print(\"Sun's RA = {0.ra:.5}\".format(sunpos))\n",
    "print(\"Sun's Dec = {0.dec:.5}\".format(sunpos))\n",
    "\n",
    "haleakala = EarthLocation(lat=20.71*u.deg, lon=-156.25*u.deg, height=3075*u.m)\n"
   ]
  },
  {
   "cell_type": "code",
   "execution_count": 6,
   "metadata": {},
   "outputs": [
    {
     "name": "stdout",
     "output_type": "stream",
     "text": [
      "Local Sidereal Time = 3.9221 deg\n",
      "\n",
      "Hour Angle = 294.56 deg\n",
      "Sun's Altitude = 29.312 deg\n",
      "Sun's Azimuth = 75.564 deg\n"
     ]
    }
   ],
   "source": [
    "\n",
    "#ha = angles.ra.hour_angle(sun.ra,time)\n",
    "local_sidereal = time.sidereal_time('apparent',haleakala.lon)\n",
    "print(\"Local Sidereal Time = {0.deg:.5} deg\".format(local_sidereal))\n",
    "print()\n",
    "hour_angle = ((local_sidereal - sunpos.ra).deg + 360)%360 * u.deg\n",
    "\n",
    "print(\"Hour Angle = {0:.5}\".format(hour_angle))\n",
    "\n",
    "frame_obstime = AltAz(obstime=time, location=haleakala)\n",
    "sunpos_altaz  = sunpos.transform_to(frame_obstime)\n",
    "print(\"Sun's Altitude = {0.alt:.5}\".format(sunpos_altaz))\n",
    "print(\"Sun's Azimuth = {0.az:.5}\".format(sunpos_altaz))\n",
    "\n"
   ]
  },
  {
   "cell_type": "code",
   "execution_count": null,
   "metadata": {},
   "outputs": [],
   "source": []
  }
 ],
 "metadata": {
  "kernelspec": {
   "display_name": "Python 3",
   "language": "python",
   "name": "python3"
  },
  "language_info": {
   "codemirror_mode": {
    "name": "ipython",
    "version": 3
   },
   "file_extension": ".py",
   "mimetype": "text/x-python",
   "name": "python",
   "nbconvert_exporter": "python",
   "pygments_lexer": "ipython3",
   "version": "3.8.5"
  }
 },
 "nbformat": 4,
 "nbformat_minor": 1
}
