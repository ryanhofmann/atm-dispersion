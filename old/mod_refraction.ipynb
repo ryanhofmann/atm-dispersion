{
 "cells": [
  {
   "cell_type": "code",
   "execution_count": 15,
   "metadata": {},
   "outputs": [
    {
     "name": "stdout",
     "output_type": "stream",
     "text": [
      "All modules loaded\n"
     ]
    }
   ],
   "source": [
    "import sys\n",
    "sys.path.append('./python/')\n",
    "\n",
    "import numpy as np\n",
    "from datetime import datetime\n",
    "import astropy.units as u\n",
    "from astropy import coordinates\n",
    "from astropy.coordinates import EarthLocation, AltAz\n",
    "from astropy.time import Time\n",
    "from sunpy import coordinates as coord\n",
    "from refractivity import refractivity\n",
    "import sunpy as sp\n",
    "from scipy import interpolate\n",
    "import matplotlib.pyplot as plt\n",
    "from astropy.table import Table\n",
    "from astropy.io import fits\n",
    "\n",
    "print(\"All modules loaded\")\n"
   ]
  },
  {
   "cell_type": "markdown",
   "metadata": {},
   "source": [
    "# 1) Getting atmospheric density"
   ]
  },
  {
   "cell_type": "code",
   "execution_count": 16,
   "metadata": {},
   "outputs": [],
   "source": [
    "def atmospheric_density(temperature=20*u.deg_C, pressure_pa=100000*u.Pa, \n",
    "                        humidity=75, xc=380, force_xw=0, water_vapor=False, \n",
    "                        dry_air=False, verbose=0):\n",
    "    \n",
    "    \"\"\"Return the atmospheric density\n",
    "\n",
    "    Typical parameters for atmospheric values set as defaults. \n",
    "    \"\"\"\n",
    "    \n",
    "    TT_C = temperature.value\n",
    "    TT_K = TT_C + 273.15\n",
    "    pressure_pa = pressure_pa.to(u.Pa).value #keep units in pascals\n",
    "    humidity_partial = humidity/100.\n",
    "    if verbose >= 2:\n",
    "        print(\"Temp: \", TT_C, \"°C \\nPressure: \", pressure_pa, \" Pa \\nHumidity: \",\\\n",
    "              humidity, \"% \\nCO2: \", xc, \" ppm\")\n",
    "    \n",
    "    #*************** Constants ****************\n",
    "    #from Ciddor 1996, Appendix A:\n",
    "    AA = 1.2378847*10**-5    #K^(-2)\n",
    "    BB = -1.9121316*10**-2   #K^(-2)\n",
    "    CC = 33.93711047         #\n",
    "    DD = -6.3431645*10**3    #K\n",
    "    \n",
    "    alpha = np.float64(1.00062)#\n",
    "    beta  = np.float64(3.14 * 10**-8)  #Pa^(-1)\n",
    "    gamma = np.float(5.6 * 10**-7)    #°C^(-2)\n",
    "    \n",
    "    a0 = 1.58123*10**-6      #K Pa^(-1)\n",
    "    a1 = -2.9331*10**-8      #Pa^(-1)\n",
    "    a2 = 1.1043*10**-10      #K^(-1) Pa^(-1)\n",
    "    b0 = 5.707*10**-6        #K Pa^(-1)\n",
    "    b1 = -2.051*10**-8       #Pa^(-1)\n",
    "    c0 = 1.9898*10**-4       #K Pa^(-1)\n",
    "    c1 = -2.376*10**-6       #Pa^(-1)\n",
    "    d  = 1.83*10**-11        #K^2 Pa^(-2)\n",
    "    e  = -0.765*10**-8       #K^2 Pa^(-2)\n",
    "    \n",
    "    #from Ciddor 1995, Section 3\n",
    "    #gas constant:\n",
    "    R  = 8.314510            #J mol^(-1) K^(-1)\n",
    "    #molar mass of water vapor:\n",
    "    Mw = 0.018015            #kg/mol\n",
    "    #molar mass of dry air containing a CO2 concentration of xc ppm:\n",
    "    Malpha = (10**-3)*(28.9635 + (12.011*10**-6)*(xc-400)) \n",
    "    \n",
    "    #***************End Constants*****************\n",
    "    \n",
    "    #saturation vapor pressure of water vapor in air at temperature T, from Ciddor 1996 Section 3:\n",
    "    svp = np.exp(AA*TT_K**2 + BB*TT_K + CC + DD/TT_K)\n",
    "    \n",
    "    #enhancement factor of water vapor in air, whatever that is:\n",
    "    f = alpha + beta*pressure_pa + gamma*TT_C**2\n",
    "    \n",
    "    if force_xw == 0:\n",
    "        xw = f*humidity_partial*svp/pressure_pa\n",
    "    else:\n",
    "        xw=force_xw #molar fraction of water vapor\n",
    "        \n",
    "    #from Ciddor 1996 Appendix:    \n",
    "    Z=1-(pressure_pa/TT_K)*(a0 + a1*TT_C + a2*TT_C**2 + (b0 + b1*TT_C)*xw \n",
    "                            + (c0 + c1*TT_C)*xw**2) + ((pressure_pa/TT_K)**2)*(d + e*xw**2)\n",
    "    \n",
    "    if water_vapor:\n",
    "        density = (pressure_pa*Mw*xw/(Z*R*TT_K))\n",
    "    elif dry_air:\n",
    "        density = (pressure_pa * Malpha/(Z*R*TT_K))*(1 - xw)\n",
    "    else:\n",
    "        density = (pressure_pa * Malpha/(Z*R*TT_K))*(1 - xw*(1 - Mw/Malpha))\n",
    "    \n",
    "    if verbose >= 2:\n",
    "        print(\"svp: \", svp, '\\nf: ', f, '\\nxw: ', xw, '\\nZ: ', Z, '\\ndensity: ', density)\n",
    "    \n",
    "    atmosphere_values = {'R':R, 'Z':Z, 'Ma':Malpha, 'Mw':Mw, 'svp':svp, 'f':f, 'density':density,\\\n",
    "                         'TT_C':TT_C, 'TT_K':TT_K, 'pressure_pa':pressure_pa, 'humidity':humidity, 'xw':xw}\n",
    "\n",
    "    return(density)\n"
   ]
  },
  {
   "cell_type": "code",
   "execution_count": 17,
   "metadata": {},
   "outputs": [
    {
     "data": {
      "text/plain": [
       "1.1808468323708414"
      ]
     },
     "execution_count": 17,
     "metadata": {},
     "output_type": "execute_result"
    }
   ],
   "source": [
    "atmospheric_density()"
   ]
  },
  {
   "cell_type": "markdown",
   "metadata": {},
   "source": [
    "# 2) Use density to get refractivity"
   ]
  },
  {
   "cell_type": "code",
   "execution_count": 18,
   "metadata": {},
   "outputs": [],
   "source": [
    "def refractivity(wavelength_nm=np.array([633.0])*u.nm, temperature=20*u.deg_C, \n",
    "                 pressure_pa=100000*u.Pa, humidity=75, xc=380, verbose=0):\n",
    "    \n",
    "    \"\"\"Return the refractivity at a given wavelength\n",
    "\n",
    "    Typical parameters for atmospheric values set as defaults. Note that refractivity  = index of refraction - 1\n",
    "    \"\"\"\n",
    "\n",
    "    \n",
    "    wavelength_mic = wavelength_nm.to(u.micron).value\n",
    "    \n",
    "    #convert wavelengths in air to vacuum wavelengths [lambda(air) = lambda(vacuum)/n(air)]\n",
    "    #using mean index of refraction of air = 1.00027\n",
    "    wavelength_vac = wavelength_mic*1.00027\n",
    "    wavenumber = 1/wavelength_vac\n",
    "    \n",
    "    #*****************  Constants  ******************\n",
    "    #from Ciddor 1996, Appendix A\n",
    "    #originally from Peck and Reeder 1962:\n",
    "    k0 = 238.0185   #microns^(-2)\n",
    "    k1 = 5792105.   #microns^(-2)\n",
    "    k2 = 57.362     #microns^(-2)\n",
    "    k3 = 167917.    #microns^(-2)\n",
    "    \n",
    "    #originally from Owens 1967:\n",
    "    w0 = 295.235    #microns^(-2)\n",
    "    w1 = 2.6422     #microns^(-2)\n",
    "    w2 = -0.032380  #microns^(-4)\n",
    "    w3 = 0.004028   #microns^(-6)\n",
    "    #*************  End Constants  ******************\n",
    "    \n",
    "    #refractivity of air at 15°C, 101325 Pa, 0% humidity, and a fixed 450 ppm of CO2\n",
    "    #from Ciddor 1996 Eq. 1:\n",
    "    nas = (10**-8)*(k1/(k0 - wavenumber**2) + k3/(k2 - wavenumber**2)) + 1\n",
    "    \n",
    "    #refractivity of air at 15°C, 101325 Pa, 0% humidity, and a variable xc pmm of CO@\n",
    "    #from Ciddor 1996 Eq. 2:\n",
    "    naxs = (nas - 1)*(1 + (0.534*10**-6)*(xc - 450)) + 1\n",
    "    \n",
    "    #refractivity of water vapor at 20°C, 1333 Pa, 0% humidity\n",
    "    #correction actor derived by Ciddor 1996 by fitting to measurements:\n",
    "    cf = 1.022\n",
    "    #from Ciddor 1996 Eq. 3:\n",
    "    nws = (10**-8)*cf*(w0 + w1*wavenumber**2 + w2*wavenumber**4 + w3*wavenumber**6) + 1\n",
    "    \n",
    "    #density of dry air at standard conditions:\n",
    "    density_axs = atmospheric_density(15*u.deg_C, 101325*u.Pa, 0, xc, dry_air=True)\n",
    "    #density of water vapor at standard conditions:\n",
    "    density_ws  = atmospheric_density(20*u.deg_C, 1333*u.Pa, 100, xc, force_xw=1)\n",
    "    \n",
    "    #density of dry air at input conditions:\n",
    "    density_a = atmospheric_density(temperature, pressure_pa, humidity, xc, dry_air=True)\n",
    "    #density of water vapor at input conditions:\n",
    "    density_w = atmospheric_density(temperature, pressure_pa, humidity, xc, water_vapor=True)\n",
    "    if verbose >= 1:\n",
    "        print(\"density a - \",density_a,density_axs,density_a/density_axs)\n",
    "        print(\"density w - \",density_w,density_ws,density_w/density_ws)\n",
    "    \n",
    "    #from Ciddor 1996 Eq. 5:\n",
    "    nprop_a = (density_a/density_axs)*(naxs - 1)\n",
    "    nprop_w = (density_w/density_ws)*(nws - 1)\n",
    "    nprop = nprop_a + nprop_w\n",
    "    \n",
    "    if verbose >= 1:\n",
    "        print(\"n(axs): \", (naxs - 1)*10**8, \"\\nn(ws): \", (nws - 1)*10**8, \"\\nrho(a/axs): \", \n",
    "              (density_a/density_axs), \"\\nrho(w/ws): \", \n",
    "              (density_w/density_ws), \"\\nn(prop): \", nprop*10**8)\n",
    "    if verbose >= 2:\n",
    "        print(\"n(air): \", (density_a/density_axs)*(naxs - 1)*10**8, \"\\nn(water): \", \n",
    "              (density_w/density_ws)*(nws - 1)*10**8)\n",
    "    \n",
    "    return(nprop)\n"
   ]
  },
  {
   "cell_type": "code",
   "execution_count": 19,
   "metadata": {},
   "outputs": [
    {
     "data": {
      "text/plain": [
       "array([0.00026759])"
      ]
     },
     "execution_count": 19,
     "metadata": {},
     "output_type": "execute_result"
    }
   ],
   "source": [
    "refractivity()"
   ]
  },
  {
   "cell_type": "markdown",
   "metadata": {},
   "source": [
    "# 3) Main atmospheric refractivity function. "
   ]
  },
  {
   "cell_type": "code",
   "execution_count": 20,
   "metadata": {
    "scrolled": false
   },
   "outputs": [],
   "source": [
    "def atmospheric_refraction(wavelength=np.array([400, 500, 600, 700, 800])*u.nm, \n",
    "                           input_times=np.array([1]), latitude=20.71*u.deg, \n",
    "                           longitude=-156.25*u.deg, altitude=3055.*u.m, \n",
    "                           air_temp=20*u.deg_C, air_pressure=100000.*u.Pa, \n",
    "                           humidity=75., co2_conc=415., verbose=0):\n",
    "    \"\"\"Return the wavelengths-dependent atmospheric refraction\n",
    "\n",
    "    Typical parameters for atmospheric values set as defaults. \n",
    "    Parallactic angle in degrees and refraction magnitude in arcseconds\n",
    "    are also returned. \n",
    "    \n",
    "    \"\"\"\n",
    "    \n",
    "    arcsec_conversion = np.degrees(3600.) # *** What's going on here?\n",
    "    num_waves=len(wavelength)\n",
    "    wavelength.astype(float) \n",
    "    \n",
    "    #setting default time to now in Julian dates\n",
    "    if np.alltrue(input_times == np.array([1])):  # *** input times is set to np.array([1]) by default?\n",
    "        input_times = Time(np.array([datetime.utcnow()]), scale='utc')\n",
    "        input_times.format = 'jd'\n",
    "    else:\n",
    "        input_times = Time(input_times, format='jd', scale='utc')    \n",
    "    \n",
    "    input_times.delta_ut1_utc = 0.0 # set offset = 0 \n",
    "    \n",
    "    num_times = len(input_times)\n",
    "    \n",
    "    refrac = refractivity(wavelength, air_temp, air_pressure, \n",
    "                          humidity, co2_conc, verbose=verbose)\n",
    "\n",
    "    #get the Sun's RA and Dec, then print them\n",
    "    sunpos = coordinates.get_sun(input_times)\n",
    "    if verbose == 1:\n",
    "        print(sunpos.ra,sunpos.dec,sunpos.obstime)\n",
    "    \n",
    "    #Local information for Haleakala\n",
    "    haleakala = EarthLocation(lat=latitude, lon=longitude, height=altitude)\n",
    "    local_sidereal = input_times.sidereal_time('apparent',haleakala.lon)\n",
    "    \n",
    "    #Get hour angle, altitude and azimuth\n",
    "    #The rest of the program only uses the hour angle and altitude\n",
    "    ha_all = ((local_sidereal - sunpos.ra).deg + 360)%360 * u.deg\n",
    "    ha_all = ha_all.value\n",
    "    frame_obstime = AltAz(obstime=input_times, location=haleakala)  # *** How is alt az different from ra and Dec?\n",
    "    sunpos_altaz  = sunpos.transform_to(frame_obstime)\n",
    "    alt_all = sunpos_altaz.alt.deg\n",
    "    idx = (np.abs(alt_all - 0)).argmin()\n",
    "    alt_all[idx] = alt_all[idx - 1]\n",
    "\n",
    "    idx = (np.abs(alt_all - 0)).argmin()\n",
    "    alt_all[idx] = alt_all[idx - 1]\n",
    "    \n",
    "    #continue with calculations\n",
    "    beta = 0.001254*(273.15 + air_temp.value)/273.15\n",
    "    coeff_a = refrac*(1 - beta)\n",
    "    coeff_b = refrac*(beta - refrac/2.)\n",
    "    \n",
    "    #calculate the magnitude of the refraction for each time and wavelength\n",
    "    refraction_calc = np.ones((num_times, num_waves))\n",
    "    for wv in range (num_waves):\n",
    "        refraction_wv = (coeff_a[wv]*np.tan(np.radians(90 - alt_all))) \n",
    "        - (coeff_b[wv]*(np.tan(np.radians(90 - alt_all)))**3)\n",
    "        \n",
    "        refraction_wv = refraction_wv*arcsec_conversion\n",
    "        refraction_calc[:, wv] = refraction_wv\n",
    "    #find the parallactic angle\n",
    "    \n",
    "    #get everything in degrees        \n",
    "    parallactic_angle_sin = np.sin(np.deg2rad(ha_all))/np.sin(np.deg2rad(90 - alt_all)) *\\\n",
    "                            np.sin(np.deg2rad(90 - latitude.to(u.deg).value))\n",
    "    parallactic_angle = np.rad2deg(np.arcsin(parallactic_angle_sin))\n",
    "        \n",
    "    if verbose == 1:\n",
    "        print(\"\\nInput Time(s) in Julian dates: \", input_times)\n",
    "        print(\"\\nSun's RA: \", sunpos.ra.degree)\n",
    "        print(\"Sun's Dec: \", sunpos.dec.degree)\n",
    "        print(\"Local Sidereal Time: \", local_sidereal)\n",
    "        print('\\nHour Angle: ', ha_all)\n",
    "        print(\"Altitude: \", alt_all)\n",
    "        print(\"Azimuth: \", sunpos_altaz.az.deg)\n",
    "        print()\n",
    "        for time, refractions in zip(input_times, refraction_calc):\n",
    "            print(\"Refraction for Julian Date \", time, \": \", refractions)\n",
    "        print()\n",
    "        for time, angles in zip(input_times, parallactic_angle):\n",
    "            print (\"Parallactic Angle for Julian Date \", time, \": \", angles)\n",
    "    \n",
    "    atmospheric_refraction = {'refraction_mag (arcsec)':refraction_calc[:, :],\\\n",
    "                              'parallactic_angle (degrees)':parallactic_angle[:]}    \n",
    "    return(atmospheric_refraction, input_times)\n",
    "    "
   ]
  },
  {
   "cell_type": "code",
   "execution_count": 21,
   "metadata": {},
   "outputs": [
    {
     "data": {
      "text/plain": [
       "({'refraction_mag (arcsec)': array([[133.92065693, 132.11605793, 131.16761372, 130.60576893,\n",
       "          130.24497771]]),\n",
       "  'parallactic_angle (degrees)': array([-75.95800211])},\n",
       " <Time object: scale='utc' format='jd' value=[2459389.23219483]>)"
      ]
     },
     "execution_count": 21,
     "metadata": {},
     "output_type": "execute_result"
    }
   ],
   "source": [
    "atmospheric_refraction() \n"
   ]
  },
  {
   "cell_type": "markdown",
   "metadata": {},
   "source": [
    "# 4) Calculate refraction offsets in Solar NS-EW coordinate system"
   ]
  },
  {
   "cell_type": "code",
   "execution_count": 22,
   "metadata": {},
   "outputs": [
    {
     "data": {
      "text/plain": [
       "{'East-West': array([[0.99449881, 0.99449881, 0.99449881, 0.99449881, 0.99449881]]),\n",
       " 'North-South': array([[0.10474783, 0.10474783, 0.10474783, 0.10474783, 0.10474783]])}"
      ]
     },
     "execution_count": 22,
     "metadata": {},
     "output_type": "execute_result"
    }
   ],
   "source": [
    "def offsets(wavelength=np.array([400, 500, 600, 700, 800])*u.nm, \n",
    "            input_times=np.array([1]), latitude=20.71*u.deg, \n",
    "            longitude=-156.25*u.deg, altitude=3055.*u.m, air_temp=20.*u.deg_C, \n",
    "            air_pressure=100000.*u.Pa, \n",
    "            humidity=75., co2_conc=380., verbose=0):\n",
    "\n",
    "    \"\"\"Computes Heliocentric shifts due to refraction\n",
    "\n",
    "    Typical parameters for atmospheric values set as defaults.\n",
    "    Computes North-South and East-West offsets in Heliocentric coordinates\n",
    "    \n",
    "    \"\"\"\n",
    "         \n",
    "    refraction_atm = atmospheric_refraction(wavelength, input_times, latitude, \n",
    "                                            longitude, altitude, air_temp, \n",
    "                                            air_pressure, humidity, co2_conc, verbose)\n",
    "    num_waves = wavelength.size\n",
    "    \n",
    "     #setting default time to now in Julian dates\n",
    "    if np.alltrue(input_times == np.array([1])):\n",
    "        input_times = Time(np.array([datetime.utcnow()]), scale='utc')\n",
    "        input_times.format = 'jd'\n",
    "    else:\n",
    "        input_times = Time(input_times, format='jd', scale='utc')    \n",
    "    num_times = input_times.size\n",
    "    \n",
    "    \n",
    "    #get position angle:\n",
    "    PA = coord.sun.P(refraction_atm[1]).degree\n",
    "    \n",
    "    parallactic_to_solar = refraction_atm[0]['parallactic_angle (degrees)'] - PA\n",
    "    \n",
    "    #find the offsets due to atmospheric refraction:\n",
    "    sfts_heliocent_ew = np.ones((num_times, num_waves))\n",
    "    sfts_heliocent_ns = np.ones((num_times, num_waves))\n",
    "    \n",
    "    for wv in range (num_waves):\n",
    "        sfts_heliocent_ew[:, wv] = np.sin(np.radians(180 - parallactic_to_solar))\n",
    "        sfts_heliocent_ns[:, wv] = np.cos(np.radians(180 - parallactic_to_solar))\n",
    "    \n",
    "    if verbose == 1:\n",
    "        print('\\nPosition Angles in degrees: ', PA, '\\n') \n",
    "        for time, offsets in zip(input_times, sfts_heliocent_ew):\n",
    "            print(\"East-West Offsets for Julian Date \", time, \": \", offsets)\n",
    "        for time, offsets in zip(input_times, sfts_heliocent_ns):\n",
    "            print(\"North-South Offsets for Julian Date \", time, \": \", offsets)\n",
    "    \n",
    "    offsets = {'East-West':sfts_heliocent_ew, 'North-South':sfts_heliocent_ns}\n",
    "    return(offsets)\n",
    "\n",
    "offsets(input_times = np.array([2454629.564]))\n",
    "#offsets(input_times=np.array([2458278.2, 2454629.564]))"
   ]
  },
  {
   "cell_type": "code",
   "execution_count": 28,
   "metadata": {},
   "outputs": [
    {
     "name": "stdout",
     "output_type": "stream",
     "text": [
      "density a -  1.2194625631296394 1.2254226533684582 0.9951362983029278\n",
      "density w -  0.007078542422748544 0.009859381090734688 0.7179499765356037\n",
      "n(axs):  [28274.54481324 27895.98259643 27697.04883685 27579.2438782\n",
      " 27503.61875015] \n",
      "n(ws):  [318.31024401 312.25978396 309.06005724 307.135325   305.88212918] \n",
      "rho(a/axs):  0.9951362983029278 \n",
      "rho(w/ws):  0.7179499765356037 \n",
      "n(prop):  [28365.55669387 27984.4917631  27784.22831426 27665.61446231\n",
      " 27589.45742042]\n",
      "n(air):  [28137.02586165 27760.30485853 27562.33865342 27445.10666294\n",
      " 27369.84935296] \n",
      "n(water):  [228.53083222 224.18690457 221.88966084 220.50779937 219.60806747]\n",
      "['East-West', 'North-South']\n",
      "[-0.15442054  0.31320973  0.69533048  0.88155155  0.95613682  0.99627336\n",
      "  0.99668995  0.99931845  0.99993488  0.99965142  0.98590883]\n"
     ]
    }
   ],
   "source": [
    "disp_offsets = offsets(input_times = np.linspace(0,0.5,num=11) + 2458886.4, verbose=2, air_temp=10.*u.deg_C)\n",
    "#print (disp_offsets.East-West[5])\n",
    "print (list(disp_offsets.keys()))\n",
    "gg = disp_offsets['East-West']\n",
    "print (gg[:,0])\n",
    "#print ((disp_offsets['East-West']**2. ,disp_offsets['North-South']**2))\n",
    "#print ((disp_offsets['East-West']**2. + disp_offsets['North-South']**2.)**0.5)\n",
    "#ew_sfts = getattr(disp_offsets,'East-West')"
   ]
  },
  {
   "cell_type": "code",
   "execution_count": null,
   "metadata": {},
   "outputs": [],
   "source": []
  }
 ],
 "metadata": {
  "kernelspec": {
   "display_name": "Python 3",
   "language": "python",
   "name": "python3"
  },
  "language_info": {
   "codemirror_mode": {
    "name": "ipython",
    "version": 3
   },
   "file_extension": ".py",
   "mimetype": "text/x-python",
   "name": "python",
   "nbconvert_exporter": "python",
   "pygments_lexer": "ipython3",
   "version": "3.8.5"
  }
 },
 "nbformat": 4,
 "nbformat_minor": 2
}
